{
 "cells": [
  {
   "cell_type": "code",
   "execution_count": 1,
   "id": "148e869e",
   "metadata": {
    "_cell_guid": "b1076dfc-b9ad-4769-8c92-a6c4dae69d19",
    "_uuid": "8f2839f25d086af736a60e9eeb907d3b93b6e0e5",
    "execution": {
     "iopub.execute_input": "2022-11-12T10:42:57.845079Z",
     "iopub.status.busy": "2022-11-12T10:42:57.844705Z",
     "iopub.status.idle": "2022-11-12T10:43:00.955042Z",
     "shell.execute_reply": "2022-11-12T10:43:00.953544Z"
    },
    "papermill": {
     "duration": 3.122137,
     "end_time": "2022-11-12T10:43:00.957179",
     "exception": false,
     "start_time": "2022-11-12T10:42:57.835042",
     "status": "completed"
    },
    "tags": []
   },
   "outputs": [
    {
     "name": "stdout",
     "output_type": "stream",
     "text": [
      "/kaggle/input/eeg-psychiatric-disorders-dataset/EEG.machinelearing_data_BRMH.csv\n"
     ]
    }
   ],
   "source": [
    "\n",
    "\n",
    "import numpy as np # linear algebra\n",
    "import pandas as pd # data processing, CSV file I/O (e.g. pd.read_csv)\n",
    "import matplotlib.pyplot as plt\n",
    "import seaborn as sns\n",
    "import torch\n",
    "\n",
    "import os\n",
    "for dirname, _, filenames in os.walk('/kaggle/input'):\n",
    "    for filename in filenames:\n",
    "        print(os.path.join(dirname, filename))\n"
   ]
  },
  {
   "cell_type": "code",
   "execution_count": 2,
   "id": "7298e1cc",
   "metadata": {
    "execution": {
     "iopub.execute_input": "2022-11-12T10:43:00.974465Z",
     "iopub.status.busy": "2022-11-12T10:43:00.973954Z",
     "iopub.status.idle": "2022-11-12T10:43:00.982946Z",
     "shell.execute_reply": "2022-11-12T10:43:00.981605Z"
    },
    "papermill": {
     "duration": 0.019487,
     "end_time": "2022-11-12T10:43:00.984651",
     "exception": false,
     "start_time": "2022-11-12T10:43:00.965164",
     "status": "completed"
    },
    "tags": []
   },
   "outputs": [
    {
     "data": {
      "text/plain": [
       "<module 'posixpath' from '/opt/conda/lib/python3.7/posixpath.py'>"
      ]
     },
     "execution_count": 2,
     "metadata": {},
     "output_type": "execute_result"
    }
   ],
   "source": [
    "os.path"
   ]
  },
  {
   "cell_type": "code",
   "execution_count": 3,
   "id": "dd00a1c1",
   "metadata": {
    "execution": {
     "iopub.execute_input": "2022-11-12T10:43:01.001553Z",
     "iopub.status.busy": "2022-11-12T10:43:01.001204Z",
     "iopub.status.idle": "2022-11-12T10:43:01.006634Z",
     "shell.execute_reply": "2022-11-12T10:43:01.005036Z"
    },
    "papermill": {
     "duration": 0.016304,
     "end_time": "2022-11-12T10:43:01.008691",
     "exception": false,
     "start_time": "2022-11-12T10:43:00.992387",
     "status": "completed"
    },
    "tags": []
   },
   "outputs": [],
   "source": [
    "import pandas as pd"
   ]
  },
  {
   "cell_type": "code",
   "execution_count": 4,
   "id": "172c0fbd",
   "metadata": {
    "execution": {
     "iopub.execute_input": "2022-11-12T10:43:01.024903Z",
     "iopub.status.busy": "2022-11-12T10:43:01.024566Z",
     "iopub.status.idle": "2022-11-12T10:43:01.362671Z",
     "shell.execute_reply": "2022-11-12T10:43:01.361917Z"
    },
    "papermill": {
     "duration": 0.348512,
     "end_time": "2022-11-12T10:43:01.364652",
     "exception": false,
     "start_time": "2022-11-12T10:43:01.016140",
     "status": "completed"
    },
    "tags": []
   },
   "outputs": [],
   "source": [
    "df = pd.read_csv('../input/eeg-psychiatric-disorders-dataset/EEG.machinelearing_data_BRMH.csv')"
   ]
  },
  {
   "cell_type": "code",
   "execution_count": 5,
   "id": "4a8927a2",
   "metadata": {
    "execution": {
     "iopub.execute_input": "2022-11-12T10:43:01.383113Z",
     "iopub.status.busy": "2022-11-12T10:43:01.382023Z",
     "iopub.status.idle": "2022-11-12T10:43:01.415859Z",
     "shell.execute_reply": "2022-11-12T10:43:01.414775Z"
    },
    "papermill": {
     "duration": 0.044777,
     "end_time": "2022-11-12T10:43:01.418068",
     "exception": false,
     "start_time": "2022-11-12T10:43:01.373291",
     "status": "completed"
    },
    "tags": []
   },
   "outputs": [
    {
     "data": {
      "text/html": [
       "<div>\n",
       "<style scoped>\n",
       "    .dataframe tbody tr th:only-of-type {\n",
       "        vertical-align: middle;\n",
       "    }\n",
       "\n",
       "    .dataframe tbody tr th {\n",
       "        vertical-align: top;\n",
       "    }\n",
       "\n",
       "    .dataframe thead th {\n",
       "        text-align: right;\n",
       "    }\n",
       "</style>\n",
       "<table border=\"1\" class=\"dataframe\">\n",
       "  <thead>\n",
       "    <tr style=\"text-align: right;\">\n",
       "      <th></th>\n",
       "      <th>no.</th>\n",
       "      <th>sex</th>\n",
       "      <th>age</th>\n",
       "      <th>eeg.date</th>\n",
       "      <th>education</th>\n",
       "      <th>IQ</th>\n",
       "      <th>main.disorder</th>\n",
       "      <th>specific.disorder</th>\n",
       "      <th>AB.A.delta.a.FP1</th>\n",
       "      <th>AB.A.delta.b.FP2</th>\n",
       "      <th>...</th>\n",
       "      <th>COH.F.gamma.o.Pz.p.P4</th>\n",
       "      <th>COH.F.gamma.o.Pz.q.T6</th>\n",
       "      <th>COH.F.gamma.o.Pz.r.O1</th>\n",
       "      <th>COH.F.gamma.o.Pz.s.O2</th>\n",
       "      <th>COH.F.gamma.p.P4.q.T6</th>\n",
       "      <th>COH.F.gamma.p.P4.r.O1</th>\n",
       "      <th>COH.F.gamma.p.P4.s.O2</th>\n",
       "      <th>COH.F.gamma.q.T6.r.O1</th>\n",
       "      <th>COH.F.gamma.q.T6.s.O2</th>\n",
       "      <th>COH.F.gamma.r.O1.s.O2</th>\n",
       "    </tr>\n",
       "  </thead>\n",
       "  <tbody>\n",
       "    <tr>\n",
       "      <th>0</th>\n",
       "      <td>1</td>\n",
       "      <td>M</td>\n",
       "      <td>57.0</td>\n",
       "      <td>2012.8.30</td>\n",
       "      <td>NaN</td>\n",
       "      <td>NaN</td>\n",
       "      <td>Addictive disorder</td>\n",
       "      <td>Alcohol use disorder</td>\n",
       "      <td>35.998557</td>\n",
       "      <td>21.717375</td>\n",
       "      <td>...</td>\n",
       "      <td>55.989192</td>\n",
       "      <td>16.739679</td>\n",
       "      <td>23.452271</td>\n",
       "      <td>45.678820</td>\n",
       "      <td>30.167520</td>\n",
       "      <td>16.918761</td>\n",
       "      <td>48.850427</td>\n",
       "      <td>9.422630</td>\n",
       "      <td>34.507082</td>\n",
       "      <td>28.613029</td>\n",
       "    </tr>\n",
       "    <tr>\n",
       "      <th>1</th>\n",
       "      <td>2</td>\n",
       "      <td>M</td>\n",
       "      <td>37.0</td>\n",
       "      <td>2012.9.6</td>\n",
       "      <td>6.0</td>\n",
       "      <td>120.0</td>\n",
       "      <td>Addictive disorder</td>\n",
       "      <td>Alcohol use disorder</td>\n",
       "      <td>13.425118</td>\n",
       "      <td>11.002916</td>\n",
       "      <td>...</td>\n",
       "      <td>45.595619</td>\n",
       "      <td>17.510824</td>\n",
       "      <td>26.777368</td>\n",
       "      <td>28.201062</td>\n",
       "      <td>57.108861</td>\n",
       "      <td>32.375401</td>\n",
       "      <td>60.351749</td>\n",
       "      <td>13.900981</td>\n",
       "      <td>57.831848</td>\n",
       "      <td>43.463261</td>\n",
       "    </tr>\n",
       "    <tr>\n",
       "      <th>2</th>\n",
       "      <td>3</td>\n",
       "      <td>M</td>\n",
       "      <td>32.0</td>\n",
       "      <td>2012.9.10</td>\n",
       "      <td>16.0</td>\n",
       "      <td>113.0</td>\n",
       "      <td>Addictive disorder</td>\n",
       "      <td>Alcohol use disorder</td>\n",
       "      <td>29.941780</td>\n",
       "      <td>27.544684</td>\n",
       "      <td>...</td>\n",
       "      <td>99.475453</td>\n",
       "      <td>70.654171</td>\n",
       "      <td>39.131547</td>\n",
       "      <td>69.920996</td>\n",
       "      <td>71.063644</td>\n",
       "      <td>38.534505</td>\n",
       "      <td>69.908764</td>\n",
       "      <td>27.180532</td>\n",
       "      <td>64.803155</td>\n",
       "      <td>31.485799</td>\n",
       "    </tr>\n",
       "    <tr>\n",
       "      <th>3</th>\n",
       "      <td>4</td>\n",
       "      <td>M</td>\n",
       "      <td>35.0</td>\n",
       "      <td>2012.10.8</td>\n",
       "      <td>18.0</td>\n",
       "      <td>126.0</td>\n",
       "      <td>Addictive disorder</td>\n",
       "      <td>Alcohol use disorder</td>\n",
       "      <td>21.496226</td>\n",
       "      <td>21.846832</td>\n",
       "      <td>...</td>\n",
       "      <td>59.986561</td>\n",
       "      <td>63.822201</td>\n",
       "      <td>36.478254</td>\n",
       "      <td>47.117006</td>\n",
       "      <td>84.658376</td>\n",
       "      <td>24.724096</td>\n",
       "      <td>50.299349</td>\n",
       "      <td>35.319695</td>\n",
       "      <td>79.822944</td>\n",
       "      <td>41.141873</td>\n",
       "    </tr>\n",
       "    <tr>\n",
       "      <th>4</th>\n",
       "      <td>5</td>\n",
       "      <td>M</td>\n",
       "      <td>36.0</td>\n",
       "      <td>2012.10.18</td>\n",
       "      <td>16.0</td>\n",
       "      <td>112.0</td>\n",
       "      <td>Addictive disorder</td>\n",
       "      <td>Alcohol use disorder</td>\n",
       "      <td>37.775667</td>\n",
       "      <td>33.607679</td>\n",
       "      <td>...</td>\n",
       "      <td>61.462720</td>\n",
       "      <td>59.166097</td>\n",
       "      <td>51.465531</td>\n",
       "      <td>58.635415</td>\n",
       "      <td>80.685608</td>\n",
       "      <td>62.138436</td>\n",
       "      <td>75.888749</td>\n",
       "      <td>61.003944</td>\n",
       "      <td>87.455509</td>\n",
       "      <td>70.531662</td>\n",
       "    </tr>\n",
       "  </tbody>\n",
       "</table>\n",
       "<p>5 rows × 1149 columns</p>\n",
       "</div>"
      ],
      "text/plain": [
       "   no. sex   age    eeg.date  education     IQ       main.disorder  \\\n",
       "0    1   M  57.0   2012.8.30        NaN    NaN  Addictive disorder   \n",
       "1    2   M  37.0    2012.9.6        6.0  120.0  Addictive disorder   \n",
       "2    3   M  32.0   2012.9.10       16.0  113.0  Addictive disorder   \n",
       "3    4   M  35.0   2012.10.8       18.0  126.0  Addictive disorder   \n",
       "4    5   M  36.0  2012.10.18       16.0  112.0  Addictive disorder   \n",
       "\n",
       "      specific.disorder  AB.A.delta.a.FP1  AB.A.delta.b.FP2  ...  \\\n",
       "0  Alcohol use disorder         35.998557         21.717375  ...   \n",
       "1  Alcohol use disorder         13.425118         11.002916  ...   \n",
       "2  Alcohol use disorder         29.941780         27.544684  ...   \n",
       "3  Alcohol use disorder         21.496226         21.846832  ...   \n",
       "4  Alcohol use disorder         37.775667         33.607679  ...   \n",
       "\n",
       "   COH.F.gamma.o.Pz.p.P4  COH.F.gamma.o.Pz.q.T6  COH.F.gamma.o.Pz.r.O1  \\\n",
       "0              55.989192              16.739679              23.452271   \n",
       "1              45.595619              17.510824              26.777368   \n",
       "2              99.475453              70.654171              39.131547   \n",
       "3              59.986561              63.822201              36.478254   \n",
       "4              61.462720              59.166097              51.465531   \n",
       "\n",
       "   COH.F.gamma.o.Pz.s.O2  COH.F.gamma.p.P4.q.T6  COH.F.gamma.p.P4.r.O1  \\\n",
       "0              45.678820              30.167520              16.918761   \n",
       "1              28.201062              57.108861              32.375401   \n",
       "2              69.920996              71.063644              38.534505   \n",
       "3              47.117006              84.658376              24.724096   \n",
       "4              58.635415              80.685608              62.138436   \n",
       "\n",
       "   COH.F.gamma.p.P4.s.O2  COH.F.gamma.q.T6.r.O1  COH.F.gamma.q.T6.s.O2  \\\n",
       "0              48.850427               9.422630              34.507082   \n",
       "1              60.351749              13.900981              57.831848   \n",
       "2              69.908764              27.180532              64.803155   \n",
       "3              50.299349              35.319695              79.822944   \n",
       "4              75.888749              61.003944              87.455509   \n",
       "\n",
       "   COH.F.gamma.r.O1.s.O2  \n",
       "0              28.613029  \n",
       "1              43.463261  \n",
       "2              31.485799  \n",
       "3              41.141873  \n",
       "4              70.531662  \n",
       "\n",
       "[5 rows x 1149 columns]"
      ]
     },
     "execution_count": 5,
     "metadata": {},
     "output_type": "execute_result"
    }
   ],
   "source": [
    "df.head()"
   ]
  },
  {
   "cell_type": "code",
   "execution_count": 6,
   "id": "bc7d409f",
   "metadata": {
    "execution": {
     "iopub.execute_input": "2022-11-12T10:43:01.435473Z",
     "iopub.status.busy": "2022-11-12T10:43:01.435149Z",
     "iopub.status.idle": "2022-11-12T10:43:03.293557Z",
     "shell.execute_reply": "2022-11-12T10:43:03.292362Z"
    },
    "papermill": {
     "duration": 1.869317,
     "end_time": "2022-11-12T10:43:03.295361",
     "exception": false,
     "start_time": "2022-11-12T10:43:01.426044",
     "status": "completed"
    },
    "tags": []
   },
   "outputs": [
    {
     "data": {
      "text/html": [
       "<div>\n",
       "<style scoped>\n",
       "    .dataframe tbody tr th:only-of-type {\n",
       "        vertical-align: middle;\n",
       "    }\n",
       "\n",
       "    .dataframe tbody tr th {\n",
       "        vertical-align: top;\n",
       "    }\n",
       "\n",
       "    .dataframe thead th {\n",
       "        text-align: right;\n",
       "    }\n",
       "</style>\n",
       "<table border=\"1\" class=\"dataframe\">\n",
       "  <thead>\n",
       "    <tr style=\"text-align: right;\">\n",
       "      <th></th>\n",
       "      <th>no.</th>\n",
       "      <th>age</th>\n",
       "      <th>education</th>\n",
       "      <th>IQ</th>\n",
       "      <th>AB.A.delta.a.FP1</th>\n",
       "      <th>AB.A.delta.b.FP2</th>\n",
       "      <th>AB.A.delta.c.F7</th>\n",
       "      <th>AB.A.delta.d.F3</th>\n",
       "      <th>AB.A.delta.e.Fz</th>\n",
       "      <th>AB.A.delta.f.F4</th>\n",
       "      <th>...</th>\n",
       "      <th>COH.F.gamma.o.Pz.p.P4</th>\n",
       "      <th>COH.F.gamma.o.Pz.q.T6</th>\n",
       "      <th>COH.F.gamma.o.Pz.r.O1</th>\n",
       "      <th>COH.F.gamma.o.Pz.s.O2</th>\n",
       "      <th>COH.F.gamma.p.P4.q.T6</th>\n",
       "      <th>COH.F.gamma.p.P4.r.O1</th>\n",
       "      <th>COH.F.gamma.p.P4.s.O2</th>\n",
       "      <th>COH.F.gamma.q.T6.r.O1</th>\n",
       "      <th>COH.F.gamma.q.T6.s.O2</th>\n",
       "      <th>COH.F.gamma.r.O1.s.O2</th>\n",
       "    </tr>\n",
       "  </thead>\n",
       "  <tbody>\n",
       "    <tr>\n",
       "      <th>count</th>\n",
       "      <td>945.000000</td>\n",
       "      <td>945.000000</td>\n",
       "      <td>930.000000</td>\n",
       "      <td>932.000000</td>\n",
       "      <td>945.000000</td>\n",
       "      <td>945.000000</td>\n",
       "      <td>945.000000</td>\n",
       "      <td>945.000000</td>\n",
       "      <td>945.000000</td>\n",
       "      <td>945.000000</td>\n",
       "      <td>...</td>\n",
       "      <td>945.000000</td>\n",
       "      <td>945.000000</td>\n",
       "      <td>945.000000</td>\n",
       "      <td>945.000000</td>\n",
       "      <td>945.000000</td>\n",
       "      <td>945.000000</td>\n",
       "      <td>945.000000</td>\n",
       "      <td>945.000000</td>\n",
       "      <td>945.000000</td>\n",
       "      <td>945.000000</td>\n",
       "    </tr>\n",
       "    <tr>\n",
       "      <th>mean</th>\n",
       "      <td>473.000000</td>\n",
       "      <td>30.594804</td>\n",
       "      <td>13.438710</td>\n",
       "      <td>101.580472</td>\n",
       "      <td>20.182936</td>\n",
       "      <td>21.177584</td>\n",
       "      <td>17.749553</td>\n",
       "      <td>18.901698</td>\n",
       "      <td>20.447079</td>\n",
       "      <td>19.490329</td>\n",
       "      <td>...</td>\n",
       "      <td>75.889633</td>\n",
       "      <td>55.049113</td>\n",
       "      <td>56.959796</td>\n",
       "      <td>60.739169</td>\n",
       "      <td>69.829254</td>\n",
       "      <td>47.862489</td>\n",
       "      <td>66.832798</td>\n",
       "      <td>39.301406</td>\n",
       "      <td>66.153213</td>\n",
       "      <td>57.056207</td>\n",
       "    </tr>\n",
       "    <tr>\n",
       "      <th>std</th>\n",
       "      <td>272.942302</td>\n",
       "      <td>11.781592</td>\n",
       "      <td>2.550461</td>\n",
       "      <td>17.022414</td>\n",
       "      <td>11.282022</td>\n",
       "      <td>12.230662</td>\n",
       "      <td>10.003598</td>\n",
       "      <td>9.079482</td>\n",
       "      <td>9.742912</td>\n",
       "      <td>9.252500</td>\n",
       "      <td>...</td>\n",
       "      <td>15.861641</td>\n",
       "      <td>19.541956</td>\n",
       "      <td>18.326785</td>\n",
       "      <td>18.052887</td>\n",
       "      <td>17.725321</td>\n",
       "      <td>19.685722</td>\n",
       "      <td>17.028701</td>\n",
       "      <td>20.790933</td>\n",
       "      <td>18.088548</td>\n",
       "      <td>19.600107</td>\n",
       "    </tr>\n",
       "    <tr>\n",
       "      <th>min</th>\n",
       "      <td>1.000000</td>\n",
       "      <td>18.000000</td>\n",
       "      <td>0.000000</td>\n",
       "      <td>49.000000</td>\n",
       "      <td>3.272260</td>\n",
       "      <td>3.244199</td>\n",
       "      <td>3.050507</td>\n",
       "      <td>3.412618</td>\n",
       "      <td>5.066593</td>\n",
       "      <td>4.048931</td>\n",
       "      <td>...</td>\n",
       "      <td>12.611954</td>\n",
       "      <td>0.519048</td>\n",
       "      <td>6.926792</td>\n",
       "      <td>0.708008</td>\n",
       "      <td>2.421748</td>\n",
       "      <td>0.036664</td>\n",
       "      <td>1.032207</td>\n",
       "      <td>1.228502</td>\n",
       "      <td>0.363268</td>\n",
       "      <td>3.988805</td>\n",
       "    </tr>\n",
       "    <tr>\n",
       "      <th>25%</th>\n",
       "      <td>237.000000</td>\n",
       "      <td>21.730000</td>\n",
       "      <td>12.000000</td>\n",
       "      <td>91.000000</td>\n",
       "      <td>12.784872</td>\n",
       "      <td>13.019269</td>\n",
       "      <td>11.134327</td>\n",
       "      <td>12.460586</td>\n",
       "      <td>13.548645</td>\n",
       "      <td>12.637717</td>\n",
       "      <td>...</td>\n",
       "      <td>68.014443</td>\n",
       "      <td>41.607506</td>\n",
       "      <td>43.682444</td>\n",
       "      <td>48.374883</td>\n",
       "      <td>58.937785</td>\n",
       "      <td>32.581046</td>\n",
       "      <td>55.872070</td>\n",
       "      <td>22.049743</td>\n",
       "      <td>54.710605</td>\n",
       "      <td>43.955229</td>\n",
       "    </tr>\n",
       "    <tr>\n",
       "      <th>50%</th>\n",
       "      <td>473.000000</td>\n",
       "      <td>26.150000</td>\n",
       "      <td>13.000000</td>\n",
       "      <td>102.000000</td>\n",
       "      <td>17.065286</td>\n",
       "      <td>17.838251</td>\n",
       "      <td>15.541469</td>\n",
       "      <td>16.733004</td>\n",
       "      <td>18.065276</td>\n",
       "      <td>17.432568</td>\n",
       "      <td>...</td>\n",
       "      <td>78.647712</td>\n",
       "      <td>55.158858</td>\n",
       "      <td>56.657348</td>\n",
       "      <td>61.257972</td>\n",
       "      <td>72.298636</td>\n",
       "      <td>45.719426</td>\n",
       "      <td>68.238375</td>\n",
       "      <td>36.549938</td>\n",
       "      <td>67.988937</td>\n",
       "      <td>57.515871</td>\n",
       "    </tr>\n",
       "    <tr>\n",
       "      <th>75%</th>\n",
       "      <td>709.000000</td>\n",
       "      <td>35.450000</td>\n",
       "      <td>16.000000</td>\n",
       "      <td>114.000000</td>\n",
       "      <td>24.492760</td>\n",
       "      <td>25.654394</td>\n",
       "      <td>21.623961</td>\n",
       "      <td>23.347900</td>\n",
       "      <td>25.573096</td>\n",
       "      <td>23.956748</td>\n",
       "      <td>...</td>\n",
       "      <td>87.398387</td>\n",
       "      <td>69.740640</td>\n",
       "      <td>70.649245</td>\n",
       "      <td>73.979100</td>\n",
       "      <td>83.066877</td>\n",
       "      <td>62.081839</td>\n",
       "      <td>79.192418</td>\n",
       "      <td>54.169209</td>\n",
       "      <td>79.527764</td>\n",
       "      <td>71.626382</td>\n",
       "    </tr>\n",
       "    <tr>\n",
       "      <th>max</th>\n",
       "      <td>945.000000</td>\n",
       "      <td>71.880000</td>\n",
       "      <td>20.000000</td>\n",
       "      <td>145.000000</td>\n",
       "      <td>92.826192</td>\n",
       "      <td>101.515687</td>\n",
       "      <td>91.373456</td>\n",
       "      <td>82.544167</td>\n",
       "      <td>101.566662</td>\n",
       "      <td>77.197502</td>\n",
       "      <td>...</td>\n",
       "      <td>99.678649</td>\n",
       "      <td>100.000000</td>\n",
       "      <td>99.307895</td>\n",
       "      <td>100.000000</td>\n",
       "      <td>99.581629</td>\n",
       "      <td>98.720067</td>\n",
       "      <td>99.650154</td>\n",
       "      <td>98.413320</td>\n",
       "      <td>100.000000</td>\n",
       "      <td>99.287092</td>\n",
       "    </tr>\n",
       "  </tbody>\n",
       "</table>\n",
       "<p>8 rows × 1145 columns</p>\n",
       "</div>"
      ],
      "text/plain": [
       "              no.         age   education          IQ  AB.A.delta.a.FP1  \\\n",
       "count  945.000000  945.000000  930.000000  932.000000        945.000000   \n",
       "mean   473.000000   30.594804   13.438710  101.580472         20.182936   \n",
       "std    272.942302   11.781592    2.550461   17.022414         11.282022   \n",
       "min      1.000000   18.000000    0.000000   49.000000          3.272260   \n",
       "25%    237.000000   21.730000   12.000000   91.000000         12.784872   \n",
       "50%    473.000000   26.150000   13.000000  102.000000         17.065286   \n",
       "75%    709.000000   35.450000   16.000000  114.000000         24.492760   \n",
       "max    945.000000   71.880000   20.000000  145.000000         92.826192   \n",
       "\n",
       "       AB.A.delta.b.FP2  AB.A.delta.c.F7  AB.A.delta.d.F3  AB.A.delta.e.Fz  \\\n",
       "count        945.000000       945.000000       945.000000       945.000000   \n",
       "mean          21.177584        17.749553        18.901698        20.447079   \n",
       "std           12.230662        10.003598         9.079482         9.742912   \n",
       "min            3.244199         3.050507         3.412618         5.066593   \n",
       "25%           13.019269        11.134327        12.460586        13.548645   \n",
       "50%           17.838251        15.541469        16.733004        18.065276   \n",
       "75%           25.654394        21.623961        23.347900        25.573096   \n",
       "max          101.515687        91.373456        82.544167       101.566662   \n",
       "\n",
       "       AB.A.delta.f.F4  ...  COH.F.gamma.o.Pz.p.P4  COH.F.gamma.o.Pz.q.T6  \\\n",
       "count       945.000000  ...             945.000000             945.000000   \n",
       "mean         19.490329  ...              75.889633              55.049113   \n",
       "std           9.252500  ...              15.861641              19.541956   \n",
       "min           4.048931  ...              12.611954               0.519048   \n",
       "25%          12.637717  ...              68.014443              41.607506   \n",
       "50%          17.432568  ...              78.647712              55.158858   \n",
       "75%          23.956748  ...              87.398387              69.740640   \n",
       "max          77.197502  ...              99.678649             100.000000   \n",
       "\n",
       "       COH.F.gamma.o.Pz.r.O1  COH.F.gamma.o.Pz.s.O2  COH.F.gamma.p.P4.q.T6  \\\n",
       "count             945.000000             945.000000             945.000000   \n",
       "mean               56.959796              60.739169              69.829254   \n",
       "std                18.326785              18.052887              17.725321   \n",
       "min                 6.926792               0.708008               2.421748   \n",
       "25%                43.682444              48.374883              58.937785   \n",
       "50%                56.657348              61.257972              72.298636   \n",
       "75%                70.649245              73.979100              83.066877   \n",
       "max                99.307895             100.000000              99.581629   \n",
       "\n",
       "       COH.F.gamma.p.P4.r.O1  COH.F.gamma.p.P4.s.O2  COH.F.gamma.q.T6.r.O1  \\\n",
       "count             945.000000             945.000000             945.000000   \n",
       "mean               47.862489              66.832798              39.301406   \n",
       "std                19.685722              17.028701              20.790933   \n",
       "min                 0.036664               1.032207               1.228502   \n",
       "25%                32.581046              55.872070              22.049743   \n",
       "50%                45.719426              68.238375              36.549938   \n",
       "75%                62.081839              79.192418              54.169209   \n",
       "max                98.720067              99.650154              98.413320   \n",
       "\n",
       "       COH.F.gamma.q.T6.s.O2  COH.F.gamma.r.O1.s.O2  \n",
       "count             945.000000             945.000000  \n",
       "mean               66.153213              57.056207  \n",
       "std                18.088548              19.600107  \n",
       "min                 0.363268               3.988805  \n",
       "25%                54.710605              43.955229  \n",
       "50%                67.988937              57.515871  \n",
       "75%                79.527764              71.626382  \n",
       "max               100.000000              99.287092  \n",
       "\n",
       "[8 rows x 1145 columns]"
      ]
     },
     "execution_count": 6,
     "metadata": {},
     "output_type": "execute_result"
    }
   ],
   "source": [
    "df.describe()"
   ]
  },
  {
   "cell_type": "code",
   "execution_count": 7,
   "id": "a893c834",
   "metadata": {
    "execution": {
     "iopub.execute_input": "2022-11-12T10:43:03.313024Z",
     "iopub.status.busy": "2022-11-12T10:43:03.312676Z",
     "iopub.status.idle": "2022-11-12T10:43:03.318147Z",
     "shell.execute_reply": "2022-11-12T10:43:03.316868Z"
    },
    "papermill": {
     "duration": 0.016805,
     "end_time": "2022-11-12T10:43:03.320384",
     "exception": false,
     "start_time": "2022-11-12T10:43:03.303579",
     "status": "completed"
    },
    "tags": []
   },
   "outputs": [],
   "source": [
    "length_col = len(df.columns)"
   ]
  },
  {
   "cell_type": "code",
   "execution_count": 8,
   "id": "9632b491",
   "metadata": {
    "execution": {
     "iopub.execute_input": "2022-11-12T10:43:03.338187Z",
     "iopub.status.busy": "2022-11-12T10:43:03.337875Z",
     "iopub.status.idle": "2022-11-12T10:43:03.345427Z",
     "shell.execute_reply": "2022-11-12T10:43:03.344488Z"
    },
    "papermill": {
     "duration": 0.018494,
     "end_time": "2022-11-12T10:43:03.347181",
     "exception": false,
     "start_time": "2022-11-12T10:43:03.328687",
     "status": "completed"
    },
    "tags": []
   },
   "outputs": [
    {
     "data": {
      "text/plain": [
       "7"
      ]
     },
     "execution_count": 8,
     "metadata": {},
     "output_type": "execute_result"
    }
   ],
   "source": [
    "len(df['main.disorder'].unique())"
   ]
  },
  {
   "cell_type": "code",
   "execution_count": 9,
   "id": "1755a81d",
   "metadata": {
    "execution": {
     "iopub.execute_input": "2022-11-12T10:43:03.365284Z",
     "iopub.status.busy": "2022-11-12T10:43:03.364983Z",
     "iopub.status.idle": "2022-11-12T10:43:03.370707Z",
     "shell.execute_reply": "2022-11-12T10:43:03.369945Z"
    },
    "papermill": {
     "duration": 0.016803,
     "end_time": "2022-11-12T10:43:03.372304",
     "exception": false,
     "start_time": "2022-11-12T10:43:03.355501",
     "status": "completed"
    },
    "tags": []
   },
   "outputs": [
    {
     "data": {
      "text/plain": [
       "12"
      ]
     },
     "execution_count": 9,
     "metadata": {},
     "output_type": "execute_result"
    }
   ],
   "source": [
    "len(df['specific.disorder'].unique())"
   ]
  },
  {
   "cell_type": "code",
   "execution_count": 10,
   "id": "cee38ea9",
   "metadata": {
    "execution": {
     "iopub.execute_input": "2022-11-12T10:43:03.390359Z",
     "iopub.status.busy": "2022-11-12T10:43:03.389858Z",
     "iopub.status.idle": "2022-11-12T10:43:03.395166Z",
     "shell.execute_reply": "2022-11-12T10:43:03.394553Z"
    },
    "papermill": {
     "duration": 0.016131,
     "end_time": "2022-11-12T10:43:03.396659",
     "exception": false,
     "start_time": "2022-11-12T10:43:03.380528",
     "status": "completed"
    },
    "tags": []
   },
   "outputs": [
    {
     "data": {
      "text/plain": [
       "array(['Alcohol use disorder', 'Acute stress disorder',\n",
       "       'Depressive disorder', 'Healthy control',\n",
       "       'Behavioral addiction disorder', 'Obsessive compulsitve disorder',\n",
       "       'Schizophrenia', 'Panic disorder', 'Social anxiety disorder',\n",
       "       'Posttraumatic stress disorder', 'Adjustment disorder',\n",
       "       'Bipolar disorder'], dtype=object)"
      ]
     },
     "execution_count": 10,
     "metadata": {},
     "output_type": "execute_result"
    }
   ],
   "source": [
    "# y label\n",
    "df['specific.disorder'].unique()"
   ]
  },
  {
   "cell_type": "code",
   "execution_count": 11,
   "id": "64e8c785",
   "metadata": {
    "execution": {
     "iopub.execute_input": "2022-11-12T10:43:03.415384Z",
     "iopub.status.busy": "2022-11-12T10:43:03.414945Z",
     "iopub.status.idle": "2022-11-12T10:43:03.420910Z",
     "shell.execute_reply": "2022-11-12T10:43:03.419960Z"
    },
    "papermill": {
     "duration": 0.017833,
     "end_time": "2022-11-12T10:43:03.422998",
     "exception": false,
     "start_time": "2022-11-12T10:43:03.405165",
     "status": "completed"
    },
    "tags": []
   },
   "outputs": [
    {
     "data": {
      "text/plain": [
       "array(['Addictive disorder', 'Trauma and stress related disorder',\n",
       "       'Mood disorder', 'Healthy control',\n",
       "       'Obsessive compulsive disorder', 'Schizophrenia',\n",
       "       'Anxiety disorder'], dtype=object)"
      ]
     },
     "execution_count": 11,
     "metadata": {},
     "output_type": "execute_result"
    }
   ],
   "source": [
    "# \n",
    "df['main.disorder'].unique()"
   ]
  },
  {
   "cell_type": "markdown",
   "id": "2e21d3f9",
   "metadata": {
    "execution": {
     "iopub.execute_input": "2022-11-12T08:07:58.697152Z",
     "iopub.status.busy": "2022-11-12T08:07:58.696326Z",
     "iopub.status.idle": "2022-11-12T08:07:58.701702Z",
     "shell.execute_reply": "2022-11-12T08:07:58.700602Z",
     "shell.execute_reply.started": "2022-11-12T08:07:58.697063Z"
    },
    "papermill": {
     "duration": 0.007799,
     "end_time": "2022-11-12T10:43:03.439215",
     "exception": false,
     "start_time": "2022-11-12T10:43:03.431416",
     "status": "completed"
    },
    "tags": []
   },
   "source": [
    "# EDA"
   ]
  },
  {
   "cell_type": "code",
   "execution_count": 12,
   "id": "858d2c83",
   "metadata": {
    "execution": {
     "iopub.execute_input": "2022-11-12T10:43:03.457458Z",
     "iopub.status.busy": "2022-11-12T10:43:03.457160Z",
     "iopub.status.idle": "2022-11-12T10:43:03.461705Z",
     "shell.execute_reply": "2022-11-12T10:43:03.460157Z"
    },
    "papermill": {
     "duration": 0.016718,
     "end_time": "2022-11-12T10:43:03.464188",
     "exception": false,
     "start_time": "2022-11-12T10:43:03.447470",
     "status": "completed"
    },
    "tags": []
   },
   "outputs": [],
   "source": [
    "columns = df.columns"
   ]
  },
  {
   "cell_type": "code",
   "execution_count": 13,
   "id": "5d8eeb43",
   "metadata": {
    "execution": {
     "iopub.execute_input": "2022-11-12T10:43:03.482309Z",
     "iopub.status.busy": "2022-11-12T10:43:03.482016Z",
     "iopub.status.idle": "2022-11-12T10:43:03.488367Z",
     "shell.execute_reply": "2022-11-12T10:43:03.487092Z"
    },
    "papermill": {
     "duration": 0.018168,
     "end_time": "2022-11-12T10:43:03.490888",
     "exception": false,
     "start_time": "2022-11-12T10:43:03.472720",
     "status": "completed"
    },
    "tags": []
   },
   "outputs": [
    {
     "data": {
      "text/plain": [
       "Index(['no.', 'sex', 'age', 'eeg.date', 'education', 'IQ', 'main.disorder',\n",
       "       'specific.disorder', 'AB.A.delta.a.FP1', 'AB.A.delta.b.FP2',\n",
       "       ...\n",
       "       'COH.F.gamma.o.Pz.p.P4', 'COH.F.gamma.o.Pz.q.T6',\n",
       "       'COH.F.gamma.o.Pz.r.O1', 'COH.F.gamma.o.Pz.s.O2',\n",
       "       'COH.F.gamma.p.P4.q.T6', 'COH.F.gamma.p.P4.r.O1',\n",
       "       'COH.F.gamma.p.P4.s.O2', 'COH.F.gamma.q.T6.r.O1',\n",
       "       'COH.F.gamma.q.T6.s.O2', 'COH.F.gamma.r.O1.s.O2'],\n",
       "      dtype='object', length=1149)"
      ]
     },
     "execution_count": 13,
     "metadata": {},
     "output_type": "execute_result"
    }
   ],
   "source": [
    "columns"
   ]
  },
  {
   "cell_type": "code",
   "execution_count": 14,
   "id": "e67a9471",
   "metadata": {
    "execution": {
     "iopub.execute_input": "2022-11-12T10:43:03.510382Z",
     "iopub.status.busy": "2022-11-12T10:43:03.509903Z",
     "iopub.status.idle": "2022-11-12T10:43:03.695448Z",
     "shell.execute_reply": "2022-11-12T10:43:03.694238Z"
    },
    "papermill": {
     "duration": 0.19753,
     "end_time": "2022-11-12T10:43:03.697449",
     "exception": false,
     "start_time": "2022-11-12T10:43:03.499919",
     "status": "completed"
    },
    "tags": []
   },
   "outputs": [
    {
     "name": "stdout",
     "output_type": "stream",
     "text": [
      "education null values: 15\n",
      "IQ null values: 13\n",
      "Unnamed: 122 null values: 945\n"
     ]
    }
   ],
   "source": [
    "for col in columns:\n",
    "    null_count = df[col].isna().sum()\n",
    "    if null_count>0:      \n",
    "        print(f'{col} null values: {null_count}')"
   ]
  },
  {
   "cell_type": "markdown",
   "id": "68952870",
   "metadata": {
    "papermill": {
     "duration": 0.008584,
     "end_time": "2022-11-12T10:43:03.715475",
     "exception": false,
     "start_time": "2022-11-12T10:43:03.706891",
     "status": "completed"
    },
    "tags": []
   },
   "source": [
    "Removing unnamed column -> no 122"
   ]
  },
  {
   "cell_type": "code",
   "execution_count": 15,
   "id": "9697cefd",
   "metadata": {
    "execution": {
     "iopub.execute_input": "2022-11-12T10:43:03.734354Z",
     "iopub.status.busy": "2022-11-12T10:43:03.734068Z",
     "iopub.status.idle": "2022-11-12T10:43:03.743166Z",
     "shell.execute_reply": "2022-11-12T10:43:03.741854Z"
    },
    "papermill": {
     "duration": 0.021188,
     "end_time": "2022-11-12T10:43:03.745497",
     "exception": false,
     "start_time": "2022-11-12T10:43:03.724309",
     "status": "completed"
    },
    "tags": []
   },
   "outputs": [
    {
     "data": {
      "text/plain": [
       "0     NaN\n",
       "1     NaN\n",
       "2     NaN\n",
       "3     NaN\n",
       "4     NaN\n",
       "       ..\n",
       "940   NaN\n",
       "941   NaN\n",
       "942   NaN\n",
       "943   NaN\n",
       "944   NaN\n",
       "Name: Unnamed: 122, Length: 945, dtype: float64"
      ]
     },
     "execution_count": 15,
     "metadata": {},
     "output_type": "execute_result"
    }
   ],
   "source": [
    "df['Unnamed: 122']"
   ]
  },
  {
   "cell_type": "code",
   "execution_count": 16,
   "id": "f2931926",
   "metadata": {
    "execution": {
     "iopub.execute_input": "2022-11-12T10:43:03.765018Z",
     "iopub.status.busy": "2022-11-12T10:43:03.764679Z",
     "iopub.status.idle": "2022-11-12T10:43:03.775241Z",
     "shell.execute_reply": "2022-11-12T10:43:03.773592Z"
    },
    "papermill": {
     "duration": 0.023047,
     "end_time": "2022-11-12T10:43:03.777678",
     "exception": false,
     "start_time": "2022-11-12T10:43:03.754631",
     "status": "completed"
    },
    "tags": []
   },
   "outputs": [],
   "source": [
    "df = df.drop(columns=['Unnamed: 122'])"
   ]
  },
  {
   "cell_type": "code",
   "execution_count": 17,
   "id": "df9a2a07",
   "metadata": {
    "execution": {
     "iopub.execute_input": "2022-11-12T10:43:03.797253Z",
     "iopub.status.busy": "2022-11-12T10:43:03.796965Z",
     "iopub.status.idle": "2022-11-12T10:43:03.799575Z",
     "shell.execute_reply": "2022-11-12T10:43:03.799079Z"
    },
    "papermill": {
     "duration": 0.014693,
     "end_time": "2022-11-12T10:43:03.801288",
     "exception": false,
     "start_time": "2022-11-12T10:43:03.786595",
     "status": "completed"
    },
    "tags": []
   },
   "outputs": [],
   "source": [
    "# df['Unnamed: 122']\n",
    "\n",
    "# removed unnamed column"
   ]
  },
  {
   "cell_type": "code",
   "execution_count": 18,
   "id": "4eef51b1",
   "metadata": {
    "execution": {
     "iopub.execute_input": "2022-11-12T10:43:03.820939Z",
     "iopub.status.busy": "2022-11-12T10:43:03.820449Z",
     "iopub.status.idle": "2022-11-12T10:43:03.874904Z",
     "shell.execute_reply": "2022-11-12T10:43:03.873374Z"
    },
    "papermill": {
     "duration": 0.066691,
     "end_time": "2022-11-12T10:43:03.877024",
     "exception": false,
     "start_time": "2022-11-12T10:43:03.810333",
     "status": "completed"
    },
    "tags": []
   },
   "outputs": [
    {
     "name": "stdout",
     "output_type": "stream",
     "text": [
      "<class 'pandas.core.frame.DataFrame'>\n",
      "RangeIndex: 945 entries, 0 to 944\n",
      "Columns: 1148 entries, no. to COH.F.gamma.r.O1.s.O2\n",
      "dtypes: float64(1143), int64(1), object(4)\n",
      "memory usage: 8.3+ MB\n"
     ]
    }
   ],
   "source": [
    "# float64(1143), int64(1), object(4)\n",
    "df.info()"
   ]
  },
  {
   "cell_type": "code",
   "execution_count": 19,
   "id": "cca99155",
   "metadata": {
    "execution": {
     "iopub.execute_input": "2022-11-12T10:43:03.896810Z",
     "iopub.status.busy": "2022-11-12T10:43:03.896491Z",
     "iopub.status.idle": "2022-11-12T10:43:03.908499Z",
     "shell.execute_reply": "2022-11-12T10:43:03.907254Z"
    },
    "papermill": {
     "duration": 0.025204,
     "end_time": "2022-11-12T10:43:03.911252",
     "exception": false,
     "start_time": "2022-11-12T10:43:03.886048",
     "status": "completed"
    },
    "tags": []
   },
   "outputs": [
    {
     "name": "stdout",
     "output_type": "stream",
     "text": [
      "<class 'pandas.core.frame.DataFrame'>\n",
      "RangeIndex: 945 entries, 0 to 944\n",
      "Data columns (total 8 columns):\n",
      " #   Column             Non-Null Count  Dtype  \n",
      "---  ------             --------------  -----  \n",
      " 0   no.                945 non-null    int64  \n",
      " 1   sex                945 non-null    object \n",
      " 2   age                945 non-null    float64\n",
      " 3   eeg.date           945 non-null    object \n",
      " 4   education          930 non-null    float64\n",
      " 5   IQ                 932 non-null    float64\n",
      " 6   main.disorder      945 non-null    object \n",
      " 7   specific.disorder  945 non-null    object \n",
      "dtypes: float64(3), int64(1), object(4)\n",
      "memory usage: 59.2+ KB\n"
     ]
    }
   ],
   "source": [
    "df.loc[:,:'specific.disorder'].info()"
   ]
  },
  {
   "cell_type": "code",
   "execution_count": null,
   "id": "e3ffb688",
   "metadata": {
    "execution": {
     "iopub.execute_input": "2022-11-12T08:38:59.277283Z",
     "iopub.status.busy": "2022-11-12T08:38:59.276884Z",
     "iopub.status.idle": "2022-11-12T08:38:59.298782Z",
     "shell.execute_reply": "2022-11-12T08:38:59.297318Z",
     "shell.execute_reply.started": "2022-11-12T08:38:59.277252Z"
    },
    "papermill": {
     "duration": 0.008032,
     "end_time": "2022-11-12T10:43:03.928906",
     "exception": false,
     "start_time": "2022-11-12T10:43:03.920874",
     "status": "completed"
    },
    "tags": []
   },
   "outputs": [],
   "source": []
  },
  {
   "cell_type": "code",
   "execution_count": 20,
   "id": "d64bd594",
   "metadata": {
    "execution": {
     "iopub.execute_input": "2022-11-12T10:43:03.947748Z",
     "iopub.status.busy": "2022-11-12T10:43:03.946534Z",
     "iopub.status.idle": "2022-11-12T10:43:03.955388Z",
     "shell.execute_reply": "2022-11-12T10:43:03.954699Z"
    },
    "papermill": {
     "duration": 0.020286,
     "end_time": "2022-11-12T10:43:03.957469",
     "exception": false,
     "start_time": "2022-11-12T10:43:03.937183",
     "status": "completed"
    },
    "tags": []
   },
   "outputs": [],
   "source": [
    "#discrete column\n",
    "dis_col = df.select_dtypes(include=['object']).columns\n",
    "#continuous column\n",
    "con_col = df.select_dtypes(include=['int64', 'float64']).columns"
   ]
  },
  {
   "cell_type": "code",
   "execution_count": 21,
   "id": "49573d2b",
   "metadata": {
    "execution": {
     "iopub.execute_input": "2022-11-12T10:43:03.977620Z",
     "iopub.status.busy": "2022-11-12T10:43:03.977162Z",
     "iopub.status.idle": "2022-11-12T10:43:03.981475Z",
     "shell.execute_reply": "2022-11-12T10:43:03.980974Z"
    },
    "papermill": {
     "duration": 0.01617,
     "end_time": "2022-11-12T10:43:03.982932",
     "exception": false,
     "start_time": "2022-11-12T10:43:03.966762",
     "status": "completed"
    },
    "tags": []
   },
   "outputs": [
    {
     "data": {
      "text/plain": [
       "Index(['sex', 'eeg.date', 'main.disorder', 'specific.disorder'], dtype='object')"
      ]
     },
     "execution_count": 21,
     "metadata": {},
     "output_type": "execute_result"
    }
   ],
   "source": [
    "dis_col"
   ]
  },
  {
   "cell_type": "code",
   "execution_count": 22,
   "id": "24363990",
   "metadata": {
    "execution": {
     "iopub.execute_input": "2022-11-12T10:43:04.002048Z",
     "iopub.status.busy": "2022-11-12T10:43:04.001520Z",
     "iopub.status.idle": "2022-11-12T10:43:04.006553Z",
     "shell.execute_reply": "2022-11-12T10:43:04.005720Z"
    },
    "papermill": {
     "duration": 0.017576,
     "end_time": "2022-11-12T10:43:04.009393",
     "exception": false,
     "start_time": "2022-11-12T10:43:03.991817",
     "status": "completed"
    },
    "tags": []
   },
   "outputs": [
    {
     "data": {
      "text/plain": [
       "Index(['no.', 'age', 'education', 'IQ', 'AB.A.delta.a.FP1', 'AB.A.delta.b.FP2',\n",
       "       'AB.A.delta.c.F7', 'AB.A.delta.d.F3', 'AB.A.delta.e.Fz',\n",
       "       'AB.A.delta.f.F4',\n",
       "       ...\n",
       "       'COH.F.gamma.o.Pz.p.P4', 'COH.F.gamma.o.Pz.q.T6',\n",
       "       'COH.F.gamma.o.Pz.r.O1', 'COH.F.gamma.o.Pz.s.O2',\n",
       "       'COH.F.gamma.p.P4.q.T6', 'COH.F.gamma.p.P4.r.O1',\n",
       "       'COH.F.gamma.p.P4.s.O2', 'COH.F.gamma.q.T6.r.O1',\n",
       "       'COH.F.gamma.q.T6.s.O2', 'COH.F.gamma.r.O1.s.O2'],\n",
       "      dtype='object', length=1144)"
      ]
     },
     "execution_count": 22,
     "metadata": {},
     "output_type": "execute_result"
    }
   ],
   "source": [
    "con_col"
   ]
  },
  {
   "cell_type": "code",
   "execution_count": 23,
   "id": "1fc69435",
   "metadata": {
    "execution": {
     "iopub.execute_input": "2022-11-12T10:43:04.029342Z",
     "iopub.status.busy": "2022-11-12T10:43:04.029010Z",
     "iopub.status.idle": "2022-11-12T10:43:04.034016Z",
     "shell.execute_reply": "2022-11-12T10:43:04.033067Z"
    },
    "papermill": {
     "duration": 0.017067,
     "end_time": "2022-11-12T10:43:04.035789",
     "exception": false,
     "start_time": "2022-11-12T10:43:04.018722",
     "status": "completed"
    },
    "tags": []
   },
   "outputs": [],
   "source": [
    "# removing eeg date as it is not necessary for the \n",
    "\n",
    "dis_col = dis_col.drop('eeg.date')"
   ]
  },
  {
   "cell_type": "code",
   "execution_count": 24,
   "id": "ac8067c3",
   "metadata": {
    "execution": {
     "iopub.execute_input": "2022-11-12T10:43:04.054941Z",
     "iopub.status.busy": "2022-11-12T10:43:04.054613Z",
     "iopub.status.idle": "2022-11-12T10:43:04.517375Z",
     "shell.execute_reply": "2022-11-12T10:43:04.516127Z"
    },
    "papermill": {
     "duration": 0.474685,
     "end_time": "2022-11-12T10:43:04.519513",
     "exception": false,
     "start_time": "2022-11-12T10:43:04.044828",
     "status": "completed"
    },
    "tags": []
   },
   "outputs": [
    {
     "data": {
      "image/png": "[encoded data removed]",
      "text/plain": [
       "<Figure size 480x480 with 1 Axes>"
      ]
     },
     "metadata": {
      "needs_background": "light"
     },
     "output_type": "display_data"
    },
    {
     "data": {
      "image/png": "[encoded data removed]",
      "text/plain": [
       "<Figure size 432x288 with 1 Axes>"
      ]
     },
     "metadata": {
      "needs_background": "light"
     },
     "output_type": "display_data"
    },
    {
     "data": {
      "image/png": "[encoded data removed]",
      "text/plain": [
       "<Figure size 432x288 with 1 Axes>"
      ]
     },
     "metadata": {
      "needs_background": "light"
     },
     "output_type": "display_data"
    }
   ],
   "source": [
    "plt.figure(figsize=(6,6),dpi=80)\n",
    "for dis in dis_col:\n",
    "    sns.countplot(x=dis,data=df)\n",
    "    plt.xticks(rotation=90)\n",
    "    plt.show()"
   ]
  },
  {
   "cell_type": "markdown",
   "id": "730208f9",
   "metadata": {
    "papermill": {
     "duration": 0.009594,
     "end_time": "2022-11-12T10:43:04.539136",
     "exception": false,
     "start_time": "2022-11-12T10:43:04.529542",
     "status": "completed"
    },
    "tags": []
   },
   "source": [
    "### CountPlot:\n",
    "\n",
    "- **Male, Female** -> We have almost double male subjects than female subjects \n",
    "- **Main disorder** -> We have 6 main disorders and one is Healthy Control **(HC)**, Mood Disorder has the most data while Obsessive Compulsive Disorder **(OCD)** has the lowest amount of data\n",
    "- **Specific Disorder** -> We have a total of 9 specific disorders where Schizophrenia, OCD and HC  have no specific disorder  others have 2-3 specific disorders "
   ]
  },
  {
   "cell_type": "code",
   "execution_count": 25,
   "id": "3dc5ecbb",
   "metadata": {
    "execution": {
     "iopub.execute_input": "2022-11-12T10:43:04.560947Z",
     "iopub.status.busy": "2022-11-12T10:43:04.559882Z",
     "iopub.status.idle": "2022-11-12T10:43:04.893418Z",
     "shell.execute_reply": "2022-11-12T10:43:04.892777Z"
    },
    "papermill": {
     "duration": 0.346464,
     "end_time": "2022-11-12T10:43:04.895517",
     "exception": false,
     "start_time": "2022-11-12T10:43:04.549053",
     "status": "completed"
    },
    "tags": []
   },
   "outputs": [
    {
     "data": {
      "text/plain": [
       "main.disorder                       specific.disorder             \n",
       "Trauma and stress related disorder  Acute stress disorder              38\n",
       "                                    Adjustment disorder                38\n",
       "Obsessive compulsive disorder       Obsessive compulsitve disorder     46\n",
       "Anxiety disorder                    Social anxiety disorder            48\n",
       "Trauma and stress related disorder  Posttraumatic stress disorder      52\n",
       "Anxiety disorder                    Panic disorder                     59\n",
       "Mood disorder                       Bipolar disorder                   67\n",
       "Addictive disorder                  Alcohol use disorder               93\n",
       "                                    Behavioral addiction disorder      93\n",
       "Healthy control                     Healthy control                    95\n",
       "Schizophrenia                       Schizophrenia                     117\n",
       "Mood disorder                       Depressive disorder               199\n",
       "dtype: int64"
      ]
     },
     "metadata": {},
     "output_type": "display_data"
    },
    {
     "data": {
      "image/png": "[encoded data removed]",
      "text/plain": [
       "<Figure size 432x288 with 1 Axes>"
      ]
     },
     "metadata": {
      "needs_background": "light"
     },
     "output_type": "display_data"
    }
   ],
   "source": [
    "fig,ax = plt.subplots()\n",
    "disorder_counts = df.groupby(['main.disorder', 'specific.disorder']).size()\n",
    "display(disorder_counts.sort_values())\n",
    "disorder_counts.unstack('specific.disorder')\\\n",
    "    .plot(kind='bar', stacked=True, ax=ax)\n",
    "ax.legend(bbox_to_anchor=(1.04, 1), loc=\"upper left\")\n",
    "plt.show()"
   ]
  },
  {
   "cell_type": "markdown",
   "id": "a1d9cfd2",
   "metadata": {
    "papermill": {
     "duration": 0.010358,
     "end_time": "2022-11-12T10:43:04.916538",
     "exception": false,
     "start_time": "2022-11-12T10:43:04.906180",
     "status": "completed"
    },
    "tags": []
   },
   "source": [
    "### Observation:\n",
    "\n",
    "Stacking the specific disorder over main disorder, from the above plot we can see that \n",
    "**HC, OCD and Schizophrenia** do not have specific disorders\n",
    "\n",
    "- **Addictive Disorder** - Alcohol use disorder, Behavioral addiction disorder\n",
    "- **Anxiety Disorder**   - Social Anxiety, Panic Disorder\n",
    "- **Mood Disorder**      - Bipolar Disorder, Depressive Disorder\n",
    "- **Trauma and Stress Related Disorder** - Posttraumatic stress disorder, Acute stress disorder, Adjustment Disorder\n"
   ]
  },
  {
   "cell_type": "markdown",
   "id": "0fb6bcc6",
   "metadata": {
    "papermill": {
     "duration": 0.010212,
     "end_time": "2022-11-12T10:43:04.937886",
     "exception": false,
     "start_time": "2022-11-12T10:43:04.927674",
     "status": "completed"
    },
    "tags": []
   },
   "source": [
    "## Sex vs Main Disorder "
   ]
  },
  {
   "cell_type": "code",
   "execution_count": 26,
   "id": "3958f235",
   "metadata": {
    "execution": {
     "iopub.execute_input": "2022-11-12T10:43:04.961563Z",
     "iopub.status.busy": "2022-11-12T10:43:04.961229Z",
     "iopub.status.idle": "2022-11-12T10:43:05.144534Z",
     "shell.execute_reply": "2022-11-12T10:43:05.143305Z"
    },
    "papermill": {
     "duration": 0.197601,
     "end_time": "2022-11-12T10:43:05.146857",
     "exception": false,
     "start_time": "2022-11-12T10:43:04.949256",
     "status": "completed"
    },
    "tags": []
   },
   "outputs": [
    {
     "data": {
      "text/plain": [
       "main.disorder                       sex\n",
       "Obsessive compulsive disorder       F        8\n",
       "Addictive disorder                  F       22\n",
       "Anxiety disorder                    F       28\n",
       "Healthy control                     F       35\n",
       "Obsessive compulsive disorder       M       38\n",
       "Trauma and stress related disorder  M       44\n",
       "Schizophrenia                       F       52\n",
       "Healthy control                     M       60\n",
       "Schizophrenia                       M       65\n",
       "Anxiety disorder                    M       79\n",
       "Trauma and stress related disorder  F       84\n",
       "Mood disorder                       F      115\n",
       "                                    M      151\n",
       "Addictive disorder                  M      164\n",
       "dtype: int64"
      ]
     },
     "metadata": {},
     "output_type": "display_data"
    },
    {
     "data": {
      "image/png": "[encoded data removed]",
      "text/plain": [
       "<Figure size 432x288 with 1 Axes>"
      ]
     },
     "metadata": {
      "needs_background": "light"
     },
     "output_type": "display_data"
    }
   ],
   "source": [
    "fig,ax = plt.subplots()\n",
    "disorder_counts = df.groupby(['main.disorder', 'sex']).size()\n",
    "display(disorder_counts.sort_values())\n",
    "disorder_counts.unstack('sex')\\\n",
    "    .plot(kind='bar', stacked=True, ax=ax)\n",
    "ax.legend(bbox_to_anchor=(1.04, 1), loc=\"upper left\")\n",
    "plt.show()"
   ]
  },
  {
   "cell_type": "markdown",
   "id": "348676ed",
   "metadata": {
    "papermill": {
     "duration": 0.010786,
     "end_time": "2022-11-12T10:43:05.168856",
     "exception": false,
     "start_time": "2022-11-12T10:43:05.158070",
     "status": "completed"
    },
    "tags": []
   },
   "source": [
    "In the above plot, we can see that the sex distribution of the Main Disorder where the most balanced proportion of Male to Female is in **Mood Disorder** followed by **Schizophrenia**. "
   ]
  },
  {
   "cell_type": "code",
   "execution_count": 27,
   "id": "477266e7",
   "metadata": {
    "execution": {
     "iopub.execute_input": "2022-11-12T10:43:05.192204Z",
     "iopub.status.busy": "2022-11-12T10:43:05.191896Z",
     "iopub.status.idle": "2022-11-12T10:43:05.197890Z",
     "shell.execute_reply": "2022-11-12T10:43:05.196980Z"
    },
    "papermill": {
     "duration": 0.020109,
     "end_time": "2022-11-12T10:43:05.199907",
     "exception": false,
     "start_time": "2022-11-12T10:43:05.179798",
     "status": "completed"
    },
    "tags": []
   },
   "outputs": [
    {
     "data": {
      "text/plain": [
       "Index(['no.', 'age', 'education', 'IQ', 'AB.A.delta.a.FP1', 'AB.A.delta.b.FP2',\n",
       "       'AB.A.delta.c.F7', 'AB.A.delta.d.F3', 'AB.A.delta.e.Fz',\n",
       "       'AB.A.delta.f.F4',\n",
       "       ...\n",
       "       'COH.F.gamma.o.Pz.p.P4', 'COH.F.gamma.o.Pz.q.T6',\n",
       "       'COH.F.gamma.o.Pz.r.O1', 'COH.F.gamma.o.Pz.s.O2',\n",
       "       'COH.F.gamma.p.P4.q.T6', 'COH.F.gamma.p.P4.r.O1',\n",
       "       'COH.F.gamma.p.P4.s.O2', 'COH.F.gamma.q.T6.r.O1',\n",
       "       'COH.F.gamma.q.T6.s.O2', 'COH.F.gamma.r.O1.s.O2'],\n",
       "      dtype='object', length=1144)"
      ]
     },
     "execution_count": 27,
     "metadata": {},
     "output_type": "execute_result"
    }
   ],
   "source": [
    "con_col"
   ]
  },
  {
   "cell_type": "code",
   "execution_count": 28,
   "id": "8656ab06",
   "metadata": {
    "execution": {
     "iopub.execute_input": "2022-11-12T10:43:05.223454Z",
     "iopub.status.busy": "2022-11-12T10:43:05.223093Z",
     "iopub.status.idle": "2022-11-12T10:43:05.229887Z",
     "shell.execute_reply": "2022-11-12T10:43:05.229283Z"
    },
    "papermill": {
     "duration": 0.020382,
     "end_time": "2022-11-12T10:43:05.231329",
     "exception": false,
     "start_time": "2022-11-12T10:43:05.210947",
     "status": "completed"
    },
    "tags": []
   },
   "outputs": [
    {
     "data": {
      "text/plain": [
       "Index(['age', 'education', 'IQ', 'AB.A.delta.a.FP1', 'AB.A.delta.b.FP2',\n",
       "       'AB.A.delta.c.F7', 'AB.A.delta.d.F3', 'AB.A.delta.e.Fz',\n",
       "       'AB.A.delta.f.F4', 'AB.A.delta.g.F8',\n",
       "       ...\n",
       "       'COH.F.gamma.o.Pz.p.P4', 'COH.F.gamma.o.Pz.q.T6',\n",
       "       'COH.F.gamma.o.Pz.r.O1', 'COH.F.gamma.o.Pz.s.O2',\n",
       "       'COH.F.gamma.p.P4.q.T6', 'COH.F.gamma.p.P4.r.O1',\n",
       "       'COH.F.gamma.p.P4.s.O2', 'COH.F.gamma.q.T6.r.O1',\n",
       "       'COH.F.gamma.q.T6.s.O2', 'COH.F.gamma.r.O1.s.O2'],\n",
       "      dtype='object', length=1143)"
      ]
     },
     "execution_count": 28,
     "metadata": {},
     "output_type": "execute_result"
    }
   ],
   "source": [
    "# dropping no. as not necessary for analysis\n",
    "con_col = con_col.drop('no.')\n",
    "con_col"
   ]
  },
  {
   "cell_type": "code",
   "execution_count": 29,
   "id": "7fa61257",
   "metadata": {
    "execution": {
     "iopub.execute_input": "2022-11-12T10:43:05.254863Z",
     "iopub.status.busy": "2022-11-12T10:43:05.254256Z",
     "iopub.status.idle": "2022-11-12T10:43:05.260909Z",
     "shell.execute_reply": "2022-11-12T10:43:05.259673Z"
    },
    "papermill": {
     "duration": 0.02068,
     "end_time": "2022-11-12T10:43:05.263056",
     "exception": false,
     "start_time": "2022-11-12T10:43:05.242376",
     "status": "completed"
    },
    "tags": []
   },
   "outputs": [
    {
     "data": {
      "text/plain": [
       "pandas.core.indexes.base.Index"
      ]
     },
     "execution_count": 29,
     "metadata": {},
     "output_type": "execute_result"
    }
   ],
   "source": [
    "type(con_col)"
   ]
  },
  {
   "cell_type": "code",
   "execution_count": 30,
   "id": "5767a0e2",
   "metadata": {
    "execution": {
     "iopub.execute_input": "2022-11-12T10:43:05.289100Z",
     "iopub.status.busy": "2022-11-12T10:43:05.288774Z",
     "iopub.status.idle": "2022-11-12T10:43:05.297315Z",
     "shell.execute_reply": "2022-11-12T10:43:05.295748Z"
    },
    "papermill": {
     "duration": 0.025302,
     "end_time": "2022-11-12T10:43:05.299696",
     "exception": false,
     "start_time": "2022-11-12T10:43:05.274394",
     "status": "completed"
    },
    "tags": []
   },
   "outputs": [
    {
     "data": {
      "text/plain": [
       "Index(['age', 'education', 'IQ'], dtype='object')"
      ]
     },
     "execution_count": 30,
     "metadata": {},
     "output_type": "execute_result"
    }
   ],
   "source": [
    "selected_con = con_col[:3]\n",
    "selected_con"
   ]
  },
  {
   "cell_type": "code",
   "execution_count": 31,
   "id": "223c143e",
   "metadata": {
    "execution": {
     "iopub.execute_input": "2022-11-12T10:43:05.323375Z",
     "iopub.status.busy": "2022-11-12T10:43:05.323048Z",
     "iopub.status.idle": "2022-11-12T10:43:06.033954Z",
     "shell.execute_reply": "2022-11-12T10:43:06.032789Z"
    },
    "papermill": {
     "duration": 0.725467,
     "end_time": "2022-11-12T10:43:06.036506",
     "exception": false,
     "start_time": "2022-11-12T10:43:05.311039",
     "status": "completed"
    },
    "tags": []
   },
   "outputs": [
    {
     "data": {
      "image/png": "[encoded data removed]",
      "text/plain": [
       "<Figure size 480x480 with 1 Axes>"
      ]
     },
     "metadata": {
      "needs_background": "light"
     },
     "output_type": "display_data"
    },
    {
     "data": {
      "image/png": "[encoded data removed]",
      "text/plain": [
       "<Figure size 432x288 with 1 Axes>"
      ]
     },
     "metadata": {
      "needs_background": "light"
     },
     "output_type": "display_data"
    },
    {
     "data": {
      "image/png": "[encoded data removed]",
      "text/plain": [
       "<Figure size 432x288 with 1 Axes>"
      ]
     },
     "metadata": {
      "needs_background": "light"
     },
     "output_type": "display_data"
    }
   ],
   "source": [
    "# first, let's only plot age, education and IQ \n",
    "\n",
    "\n",
    "plt.figure(figsize=(6, 6), dpi=80)\n",
    "\n",
    "for con in selected_con:\n",
    "    ax = sns.histplot(x = con, data = df,kde=False,alpha=0.4, stat='density')\n",
    "    sns.kdeplot(data=df, x=con, color='red', ax=ax)\n",
    "    plt.show()"
   ]
  },
  {
   "cell_type": "code",
   "execution_count": null,
   "id": "23bb67de",
   "metadata": {
    "papermill": {
     "duration": 0.012052,
     "end_time": "2022-11-12T10:43:06.061068",
     "exception": false,
     "start_time": "2022-11-12T10:43:06.049016",
     "status": "completed"
    },
    "tags": []
   },
   "outputs": [],
   "source": []
  }
 ],
 "metadata": {
  "kernelspec": {
   "display_name": "Python 3",
   "language": "python",
   "name": "python3"
  },
  "language_info": {
   "codemirror_mode": {
    "name": "ipython",
    "version": 3
   },
   "file_extension": ".py",
   "mimetype": "text/x-python",
   "name": "python",
   "nbconvert_exporter": "python",
   "pygments_lexer": "ipython3",
   "version": "3.7.12"
  },
  "papermill": {
   "default_parameters": {},
   "duration": 16.4703,
   "end_time": "2022-11-12T10:43:06.894667",
   "environment_variables": {},
   "exception": null,
   "input_path": "__notebook__.ipynb",
   "output_path": "__notebook__.ipynb",
   "parameters": {},
   "start_time": "2022-11-12T10:42:50.424367",
   "version": "2.3.4"
  }
 },
 "nbformat": 4,
 "nbformat_minor": 5
}
